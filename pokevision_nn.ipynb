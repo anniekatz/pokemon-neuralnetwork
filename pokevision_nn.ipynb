{
  "nbformat": 4,
  "nbformat_minor": 0,
  "metadata": {
    "colab": {
      "provenance": []
    },
    "kernelspec": {
      "name": "python3",
      "display_name": "Python 3"
    },
    "language_info": {
      "name": "python"
    },
    "accelerator": "GPU",
    "gpuClass": "standard"
  },
  "cells": [
    {
      "cell_type": "markdown",
      "source": [
        "# Pokemon Image Classifier\n",
        "\n",
        "Image classifier built using TensorFlow"
      ],
      "metadata": {
        "id": "k4ixsJQa1A4S"
      }
    },
    {
      "cell_type": "markdown",
      "source": [
        "## Usage\n",
        "\n",
        "To identify what species of Pokemon a given image resembles. Could be used to see which Pokemon one's pet or drawing most closely resembles\n",
        "\n",
        "## Data\n",
        "\n",
        "I combined two datasets from Kaggle and modified the datasets such that there includes an image repository and a csv file of pokemon names and their corresponding image file names.\n",
        "\n",
        "The data sets used:\n",
        "* https://www.kaggle.com/datasets/vishalsubbiah/pokemon-images-and-types\n",
        "* https://www.kaggle.com/datasets/lantian773030/pokemonclassification"
      ],
      "metadata": {
        "id": "XKM4dIuo1OEB"
      }
    },
    {
      "cell_type": "markdown",
      "source": [
        "## Imports and setup"
      ],
      "metadata": {
        "id": "ifkC_H4a7xHE"
      }
    },
    {
      "cell_type": "code",
      "source": [
        "import tensorflow as tf\n",
        "import tensorflow_hub as hub \n",
        "print(tf.__version__)"
      ],
      "metadata": {
        "colab": {
          "base_uri": "https://localhost:8080/"
        },
        "id": "LrJ-Dqei2MYV",
        "outputId": "01689876-8ac3-43b0-e187-51fe588412ed"
      },
      "execution_count": 3,
      "outputs": [
        {
          "output_type": "stream",
          "name": "stdout",
          "text": [
            "2.12.0\n"
          ]
        }
      ]
    },
    {
      "cell_type": "code",
      "source": [
        "# check GPU (Google Colab)\n",
        "print(\"GPU available\") if tf.config.list_physical_devices(\"GPU\") else \"GPU not available\""
      ],
      "metadata": {
        "colab": {
          "base_uri": "https://localhost:8080/"
        },
        "id": "6_QU0dHt4pXA",
        "outputId": "c3f00470-89a8-4a5e-8237-97121dd1fd28"
      },
      "execution_count": 4,
      "outputs": [
        {
          "output_type": "stream",
          "name": "stdout",
          "text": [
            "GPU available\n"
          ]
        }
      ]
    },
    {
      "cell_type": "code",
      "source": [],
      "metadata": {
        "id": "4t63BkOd6x3F"
      },
      "execution_count": null,
      "outputs": []
    }
  ]
}